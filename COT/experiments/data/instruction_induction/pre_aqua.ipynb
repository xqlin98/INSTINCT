{
 "cells": [
  {
   "cell_type": "code",
   "execution_count": 2,
   "metadata": {},
   "outputs": [],
   "source": [
    "import json\n",
    "\n",
    "def load_jsonl(input_path):\n",
    "    data = []\n",
    "    with open(input_path, 'r', encoding='utf-8') as f:\n",
    "        for line in f:\n",
    "            data.append(json.loads(line.rstrip('\\n|\\r')))\n",
    "    return data\n",
    "\n",
    "# Now you can call it using:\n",
    "\n",
    "data = load_jsonl('AQuA/dev.json')"
   ]
  },
  {
   "cell_type": "code",
   "execution_count": 3,
   "metadata": {},
   "outputs": [
    {
     "data": {
      "text/plain": [
       "{'question': 'Three birds are flying at a fast rate of 900 kilometers per hour. What is their speed in miles per minute? [1km = 0.6 miles]',\n",
       " 'options': ['A)32400', 'B)6000', 'C)600', 'D)60000', 'E)10'],\n",
       " 'rationale': 'To calculate the equivalent of miles in a kilometer\\n0.6 kilometers = 1 mile\\n900 kilometers = (0.6)*900 = 540 miles\\nIn 1 hour there are 60 minutes\\nSpeed in miles/minutes = 60 * 540 = 32400\\nCorrect answer - A',\n",
       " 'correct': 'A'}"
      ]
     },
     "execution_count": 3,
     "metadata": {},
     "output_type": "execute_result"
    }
   ],
   "source": [
    "data[0]"
   ]
  },
  {
   "cell_type": "code",
   "execution_count": 4,
   "metadata": {},
   "outputs": [],
   "source": [
    "examples = {}\n",
    "id = 1\n",
    "import numpy as np\n",
    "random_idx = np.random.choice(len(data), 200, replace=False)\n",
    "for idx in random_idx:\n",
    "    examples[str(id)] = {\"input\": data[idx][\"question\"] + \"\\nAnswer Choices: \" + \" \".join(data[idx][\"options\"]), \"output\": data[idx][\"correct\"]}\n",
    "    id += 1\n",
    "final_data = {\"metadata\": {\"num_examples\": len(examples)}, \"examples\": examples}\n",
    "with open('AQuA/aqua_train.json', 'w') as fp:\n",
    "    json.dump(final_data, fp, indent=4)"
   ]
  },
  {
   "cell_type": "code",
   "execution_count": 5,
   "metadata": {},
   "outputs": [],
   "source": [
    "data = load_jsonl('AQuA/test.json')\n",
    "examples = {}\n",
    "id = 1\n",
    "for data_ in data:\n",
    "    examples[str(id)] = {\"input\": data_[\"question\"] + \"\\nAnswer Choices: \" + \" \".join(data_[\"options\"]), \"output\": data_[\"correct\"]}\n",
    "    id += 1\n",
    "final_data = {\"metadata\": {\"num_examples\": len(examples)}, \"examples\": examples}\n",
    "with open('AQuA/aqua_test.json', 'w') as fp:\n",
    "    json.dump(final_data, fp, indent=4)"
   ]
  },
  {
   "cell_type": "code",
   "execution_count": null,
   "metadata": {},
   "outputs": [],
   "source": []
  }
 ],
 "metadata": {
  "kernelspec": {
   "display_name": "x",
   "language": "python",
   "name": "python3"
  },
  "language_info": {
   "codemirror_mode": {
    "name": "ipython",
    "version": 3
   },
   "file_extension": ".py",
   "mimetype": "text/x-python",
   "name": "python",
   "nbconvert_exporter": "python",
   "pygments_lexer": "ipython3",
   "version": "3.10.12"
  },
  "orig_nbformat": 4
 },
 "nbformat": 4,
 "nbformat_minor": 2
}
