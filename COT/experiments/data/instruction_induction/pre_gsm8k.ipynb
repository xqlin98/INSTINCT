{
 "cells": [
  {
   "cell_type": "code",
   "execution_count": 1,
   "metadata": {},
   "outputs": [],
   "source": [
    "import json\n",
    "\n",
    "def load_jsonl(input_path):\n",
    "    data = []\n",
    "    with open(input_path, 'r', encoding='utf-8') as f:\n",
    "        for line in f:\n",
    "            data.append(json.loads(line.rstrip('\\n|\\r')))\n",
    "    return data\n",
    "\n",
    "# Now you can call it using:\n",
    "\n",
    "data = load_jsonl('gsm8k/train.jsonl')"
   ]
  },
  {
   "cell_type": "code",
   "execution_count": 2,
   "metadata": {},
   "outputs": [],
   "source": [
    "examples = {}\n",
    "id = 1\n",
    "import numpy as np\n",
    "random_idx = np.random.choice(len(data), 200, replace=False)\n",
    "for idx in random_idx:\n",
    "    examples[str(id)] = {\"input\": data[idx][\"question\"], \"output\": data[idx][\"answer\"].split(\"#### \")[1]}\n",
    "    id += 1\n",
    "final_data = {\"metadata\": {\"num_examples\": len(examples)}, \"examples\": examples}\n",
    "with open('gsm8k/gsm8k_train.json', 'w') as fp:\n",
    "    json.dump(final_data, fp, indent=4)"
   ]
  },
  {
   "cell_type": "code",
   "execution_count": 3,
   "metadata": {},
   "outputs": [],
   "source": [
    "data = load_jsonl('gsm8k/test.jsonl')\n",
    "examples = {}\n",
    "id = 1\n",
    "for data_ in data:\n",
    "    examples[str(id)] = {\"input\": data_[\"question\"], \"output\": data_[\"answer\"].split(\"#### \")[1]}\n",
    "    id += 1\n",
    "final_data = {\"metadata\": {\"num_examples\": len(examples)}, \"examples\": examples}\n",
    "with open('gsm8k/gsm8k_test.json', 'w') as fp:\n",
    "    json.dump(final_data, fp, indent=4)"
   ]
  },
  {
   "cell_type": "code",
   "execution_count": null,
   "metadata": {},
   "outputs": [],
   "source": []
  }
 ],
 "metadata": {
  "kernelspec": {
   "display_name": "x",
   "language": "python",
   "name": "python3"
  },
  "language_info": {
   "codemirror_mode": {
    "name": "ipython",
    "version": 3
   },
   "file_extension": ".py",
   "mimetype": "text/x-python",
   "name": "python",
   "nbconvert_exporter": "python",
   "pygments_lexer": "ipython3",
   "version": "3.10.12"
  },
  "orig_nbformat": 4
 },
 "nbformat": 4,
 "nbformat_minor": 2
}
