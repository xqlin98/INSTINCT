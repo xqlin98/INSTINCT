{
 "cells": [
  {
   "attachments": {},
   "cell_type": "markdown",
   "metadata": {},
   "source": [
    "# Samsum dataset"
   ]
  },
  {
   "cell_type": "code",
   "execution_count": 36,
   "metadata": {},
   "outputs": [],
   "source": [
    "from datasets import load_dataset\n",
    "import numpy as np\n",
    "import json\n",
    "\n",
    "def create_data(dataname):\n",
    "    dataset = load_dataset(dataname)\n",
    "    input_output = []\n",
    "    for data_ in dataset['train']:\n",
    "        if dataname in ['samsum']:\n",
    "            input_ = data_['dialogue']\n",
    "            output_ = data_['summary']\n",
    "        elif dataname in ['sst2', 'sst5']:\n",
    "            input_ = data_['sentence']\n",
    "            output_ = data_['label']\n",
    "        input_output.append((input_, output_))\n",
    "\n",
    "    eval_num_dp = 200\n",
    "    eval_num_dp = max(eval_num_dp, int(len(dataset['test']) * 0.1))\n",
    "    input_output_test = []\n",
    "    for data_ in dataset['test']:\n",
    "        if dataname in ['samsum']:\n",
    "            input_ = data_['dialogue']\n",
    "            output_ = data_['summary']\n",
    "        elif dataname in ['sst2', 'sst5']:\n",
    "            input_ = data_['sentence']\n",
    "            output_ = data_['label']\n",
    "        input_output_test.append((input_, output_))\n",
    "\n",
    "    train_num_dp = 1000\n",
    "    train_num_dp = max(train_num_dp, int(len(dataset['test']) * 0.1))\n",
    "    np.random.seed(0)\n",
    "    eval_idx = np.random.choice(len(dataset['test']), eval_num_dp, replace=False)\n",
    "    train_idx = np.random.choice(len(dataset['train']), train_num_dp, replace=False)\n",
    "    eval_data_ = [input_output_test[idx] for idx in eval_idx]\n",
    "    train_data_ = [input_output[idx] for idx in train_idx]\n",
    "    eval_dict = {\"metadata\": {\"num_examples\":eval_num_dp},\"examples\":{str(idx_+1):{\"input\":eval_data_[idx_][0],\"output\":eval_data_[idx_][1]} for idx_ in range(len(eval_data_))}}\n",
    "    train_dict = {\"metadata\": {\"num_examples\":len(train_data_)},\"examples\":{str(idx_+1):{\"input\":train_data_[idx_][0],\"output\":train_data_[idx_][1]} for idx_ in range(len(train_data_))}}\n",
    "    with open(\"execute\" + f'/{dataname}.json', 'w') as f:\n",
    "        json.dump(eval_dict, f, indent=4)\n",
    "    with open(\"induce\" +  f'/{dataname}.json', 'w') as f:\n",
    "        json.dump(train_dict, f, indent=4)"
   ]
  },
  {
   "cell_type": "code",
   "execution_count": 37,
   "metadata": {},
   "outputs": [],
   "source": [
    "create_data('samsum')"
   ]
  }
 ],
 "metadata": {
  "kernelspec": {
   "display_name": "x",
   "language": "python",
   "name": "python3"
  },
  "language_info": {
   "codemirror_mode": {
    "name": "ipython",
    "version": 3
   },
   "file_extension": ".py",
   "mimetype": "text/x-python",
   "name": "python",
   "nbconvert_exporter": "python",
   "pygments_lexer": "ipython3",
   "version": "3.10.12"
  },
  "orig_nbformat": 4
 },
 "nbformat": 4,
 "nbformat_minor": 2
}
